{
 "cells": [
  {
   "cell_type": "code",
   "execution_count": 1,
   "id": "840e2ef6-7c81-476f-9289-5f0a88e45885",
   "metadata": {},
   "outputs": [],
   "source": [
    "import time\n",
    "import threading"
   ]
  },
  {
   "cell_type": "code",
   "execution_count": 11,
   "id": "1c261d1f-15b0-41ea-936b-043178bcba45",
   "metadata": {},
   "outputs": [],
   "source": [
    "# let's define two functions which need I/O resource (printing the output)\n",
    "# and we apply those 2-second sleeps to allow each thread to run while the other one is sleeping.\n",
    "\n",
    "def numbers():\n",
    "    for num in range(5):\n",
    "        time.sleep(2)\n",
    "        print(num)\n",
    "\n",
    "\n",
    "def letters():\n",
    "    for letter in 'ABCDE':\n",
    "        time.sleep(2)\n",
    "        print(letter)"
   ]
  },
  {
   "cell_type": "code",
   "execution_count": 13,
   "id": "38b5fa66-b808-4113-b4f8-9e32b3381e50",
   "metadata": {},
   "outputs": [
    {
     "name": "stdout",
     "output_type": "stream",
     "text": [
      "0\n",
      "1\n",
      "2\n",
      "3\n",
      "4\n",
      "A\n",
      "B\n",
      "C\n",
      "D\n",
      "E\n",
      "Execution time without Multithreading: 20.02626895904541\n"
     ]
    }
   ],
   "source": [
    "# First let's run it without creating threads and see what the execution time would be\n",
    "\n",
    "# Capture the start time\n",
    "start_time = time.time()\n",
    "\n",
    "# run the functions\n",
    "numbers()\n",
    "letters()\n",
    "\n",
    "# Capture the finishing time and calculate the execution time\n",
    "end_time = time.time()\n",
    "execution_time = end_time - start_time\n",
    "print('Execution time without Multithreading:', execution_time)"
   ]
  },
  {
   "cell_type": "code",
   "execution_count": 15,
   "id": "d2c90412-d497-4fd9-9feb-85b564ab0fea",
   "metadata": {},
   "outputs": [
    {
     "name": "stdout",
     "output_type": "stream",
     "text": [
      "0A\n",
      "\n",
      "B1\n",
      "\n",
      "2C\n",
      "\n",
      "D3\n",
      "\n",
      "E4\n",
      "\n",
      "execustion time using Multithreading: 10.019020080566406\n"
     ]
    }
   ],
   "source": [
    "# Creating the threads\n",
    "thread_1 = threading.Thread(target=numbers)\n",
    "thread_2 = threading.Thread(target=letters)\n",
    "\n",
    "\n",
    "# Now let's start the threads along with capturing the execution time:\n",
    "\n",
    "# Capture the start time\n",
    "start_time = time.time()\n",
    "\n",
    "# Start the threads to run\n",
    "thread_1.start()\n",
    "thread_2.start()\n",
    "\n",
    "# join the threads to the main thread\n",
    "thread_1.join()\n",
    "thread_2.join()\n",
    "\n",
    "# Capture the time it ends and calculate the execution time.\n",
    "end_time = time.time()\n",
    "execution_time = end_time - start_time\n",
    "print('execustion time using Multithreading:', execution_time)"
   ]
  },
  {
   "cell_type": "code",
   "execution_count": null,
   "id": "de87fc9c-923e-4bc8-8e7b-dee793221c08",
   "metadata": {},
   "outputs": [],
   "source": []
  }
 ],
 "metadata": {
  "kernelspec": {
   "display_name": "Python 3 (ipykernel)",
   "language": "python",
   "name": "python3"
  },
  "language_info": {
   "codemirror_mode": {
    "name": "ipython",
    "version": 3
   },
   "file_extension": ".py",
   "mimetype": "text/x-python",
   "name": "python",
   "nbconvert_exporter": "python",
   "pygments_lexer": "ipython3",
   "version": "3.8.10"
  }
 },
 "nbformat": 4,
 "nbformat_minor": 5
}
