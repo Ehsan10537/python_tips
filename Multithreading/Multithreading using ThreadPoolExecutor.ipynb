{
 "cells": [
  {
   "cell_type": "markdown",
   "id": "fdb48006-8e1e-4564-a2df-d1f195a9fab9",
   "metadata": {},
   "source": [
    "#### Multithreading using Thread Pool Executor\n",
    "\n",
    "#### ThreadPoolExecutor: Manages a pool of worker threads that can execute tasks concurrently.\n",
    "\n",
    "### We can use two methods: submit() and map() :\n",
    "\n",
    "1) submit(): Submits a task to the executor for execution. It returns a Future object that you can use to check the task’s status     or retrieve its result once it completes.\n",
    "\n",
    "2) map(): A method that is similar to the map() function but in parallel, where you can apply a function to each item in an           iterable in parallel."
   ]
  },
  {
   "cell_type": "code",
   "execution_count": 1,
   "id": "1bf7ecac-40a4-489e-a2a0-58ac9e4e21d8",
   "metadata": {},
   "outputs": [],
   "source": [
    "from concurrent.futures import ThreadPoolExecutor\n",
    "import time"
   ]
  },
  {
   "cell_type": "code",
   "execution_count": 2,
   "id": "56fdca76-2635-4dec-b717-f7e0e4692806",
   "metadata": {},
   "outputs": [],
   "source": [
    "def func(n):\n",
    "    time.sleep(2)\n",
    "    return n*n"
   ]
  },
  {
   "cell_type": "markdown",
   "id": "5c13aa3d-10ff-4e6b-8ca5-62901e6712bb",
   "metadata": {},
   "source": [
    "### Submit method :"
   ]
  },
  {
   "cell_type": "code",
   "execution_count": 3,
   "id": "485bb90a-6f90-40c6-b267-b2e7ffa9c132",
   "metadata": {},
   "outputs": [
    {
     "name": "stdout",
     "output_type": "stream",
     "text": [
      "execution time: 4.007155418395996\n"
     ]
    }
   ],
   "source": [
    "start = time.time()  # capture the start time\n",
    "\n",
    "# create a pool of threads which will be handled automatically\n",
    "with ThreadPoolExecutor(max_workers=3) as executor:\n",
    "    futures = [executor.submit(func, i) for i in [0, 1, 2, 3, 4, 5]]\n",
    "\n",
    "end = time.time()  # capture the end time\n",
    "print(f\"execution time:\", end-start) "
   ]
  },
  {
   "cell_type": "code",
   "execution_count": 4,
   "id": "e6dd6c9b-d833-436f-a192-9c96297db295",
   "metadata": {
    "scrolled": true
   },
   "outputs": [
    {
     "name": "stdout",
     "output_type": "stream",
     "text": [
      "0\n",
      "1\n",
      "4\n",
      "9\n",
      "16\n",
      "25\n"
     ]
    }
   ],
   "source": [
    "# see the results\n",
    "for future in futures:\n",
    "    print(future.result())"
   ]
  },
  {
   "cell_type": "markdown",
   "id": "6325e01b-b500-472f-9f99-f57538f49238",
   "metadata": {},
   "source": [
    "### Map method :"
   ]
  },
  {
   "cell_type": "code",
   "execution_count": 5,
   "id": "c0905198-4c29-47af-8544-2c553426a0fc",
   "metadata": {},
   "outputs": [
    {
     "name": "stdout",
     "output_type": "stream",
     "text": [
      "execution time: 4.087504148483276\n"
     ]
    }
   ],
   "source": [
    "start = time.time()\n",
    "\n",
    "with ThreadPoolExecutor(max_workers=3) as executor:  \n",
    "    results = executor.map(func, [0, 1, 2, 3, 4, 5])\n",
    "\n",
    "end = time.time()  \n",
    "print(f\"execution time:\", end-start)"
   ]
  },
  {
   "cell_type": "code",
   "execution_count": 6,
   "id": "4e4364ed-2eb5-4107-9d8c-e5b83d88326b",
   "metadata": {},
   "outputs": [
    {
     "name": "stdout",
     "output_type": "stream",
     "text": [
      "0\n",
      "1\n",
      "4\n",
      "9\n",
      "16\n",
      "25\n"
     ]
    }
   ],
   "source": [
    "for result in results:\n",
    "    print(result)"
   ]
  },
  {
   "cell_type": "code",
   "execution_count": null,
   "id": "e4707030-ae5a-4082-a702-cbda197dca5c",
   "metadata": {},
   "outputs": [],
   "source": []
  }
 ],
 "metadata": {
  "kernelspec": {
   "display_name": "Python 3 (ipykernel)",
   "language": "python",
   "name": "python3"
  },
  "language_info": {
   "codemirror_mode": {
    "name": "ipython",
    "version": 3
   },
   "file_extension": ".py",
   "mimetype": "text/x-python",
   "name": "python",
   "nbconvert_exporter": "python",
   "pygments_lexer": "ipython3",
   "version": "3.8.10"
  }
 },
 "nbformat": 4,
 "nbformat_minor": 5
}
