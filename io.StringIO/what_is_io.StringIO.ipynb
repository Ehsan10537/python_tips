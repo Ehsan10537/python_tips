{
 "cells": [
  {
   "cell_type": "code",
   "execution_count": 2,
   "id": "fa669810-4304-4437-a7ce-4c7ac2625574",
   "metadata": {},
   "outputs": [],
   "source": [
    "import pandas as pd\n",
    "from io import StringIO"
   ]
  },
  {
   "cell_type": "markdown",
   "id": "3b8dd220-1073-4846-807f-93c5e5776a2c",
   "metadata": {},
   "source": [
    "### We are going to read a json string, and convert it to a data frame.\n",
    "### we will be using the io.StringIO method to use the json string as a file for methods that require file objects as input"
   ]
  },
  {
   "cell_type": "code",
   "execution_count": 3,
   "id": "04cc8fa8-3305-46ce-bb83-f8a5f13c3191",
   "metadata": {},
   "outputs": [],
   "source": [
    "jsonstring = '[{\"name\":\"ehsan\", \"email\":\"ehsang10537@gmail.com\", \"job\":\"data scientist\"}]'\n",
    "\n",
    "# you must use \"\" for the key value pairs. its a requirement when creating json strings\n",
    "# if you use this json string in pd.read_json method, you have to create it as an aray.\n",
    "# that's why its like dictionaries inside an outter list."
   ]
  },
  {
   "cell_type": "code",
   "execution_count": 4,
   "id": "878575f2-575a-4b3b-88d4-322527cdfd61",
   "metadata": {},
   "outputs": [],
   "source": [
    "jsonstring_to_file = StringIO(jsonstring)   \n",
    "\n",
    "# io.StringIO is used to use a json string as a file"
   ]
  },
  {
   "cell_type": "code",
   "execution_count": 5,
   "id": "db566e81-a6a5-410d-9ae2-ed99c3be1df8",
   "metadata": {},
   "outputs": [
    {
     "data": {
      "text/html": [
       "<div>\n",
       "<style scoped>\n",
       "    .dataframe tbody tr th:only-of-type {\n",
       "        vertical-align: middle;\n",
       "    }\n",
       "\n",
       "    .dataframe tbody tr th {\n",
       "        vertical-align: top;\n",
       "    }\n",
       "\n",
       "    .dataframe thead th {\n",
       "        text-align: right;\n",
       "    }\n",
       "</style>\n",
       "<table border=\"1\" class=\"dataframe\">\n",
       "  <thead>\n",
       "    <tr style=\"text-align: right;\">\n",
       "      <th></th>\n",
       "      <th>name</th>\n",
       "      <th>email</th>\n",
       "      <th>job</th>\n",
       "    </tr>\n",
       "  </thead>\n",
       "  <tbody>\n",
       "    <tr>\n",
       "      <th>0</th>\n",
       "      <td>ehsan</td>\n",
       "      <td>ehsang10537@gmail.com</td>\n",
       "      <td>data scientist</td>\n",
       "    </tr>\n",
       "  </tbody>\n",
       "</table>\n",
       "</div>"
      ],
      "text/plain": [
       "    name                  email             job\n",
       "0  ehsan  ehsang10537@gmail.com  data scientist"
      ]
     },
     "execution_count": 5,
     "metadata": {},
     "output_type": "execute_result"
    }
   ],
   "source": [
    "df = pd.read_json(jsonstring_to_file)\n",
    "df"
   ]
  },
  {
   "cell_type": "code",
   "execution_count": 6,
   "id": "be768bcc-b493-40aa-9b65-5c9424c705e7",
   "metadata": {},
   "outputs": [
    {
     "data": {
      "text/plain": [
       "'{\"name\":{\"0\":\"ehsan\"},\"email\":{\"0\":\"ehsang10537@gmail.com\"},\"job\":{\"0\":\"data scientist\"}}'"
      ]
     },
     "execution_count": 6,
     "metadata": {},
     "output_type": "execute_result"
    }
   ],
   "source": [
    "# convert the dataframe back into json\n",
    "df.to_json()\n",
    "\n",
    "# it gets converted based on the index number"
   ]
  },
  {
   "cell_type": "code",
   "execution_count": 7,
   "id": "11f0e322-2127-40b2-b3fb-e69cb8bdf82c",
   "metadata": {},
   "outputs": [
    {
     "data": {
      "text/plain": [
       "'[{\"name\":\"ehsan\",\"email\":\"ehsang10537@gmail.com\",\"job\":\"data scientist\"}]'"
      ]
     },
     "execution_count": 7,
     "metadata": {},
     "output_type": "execute_result"
    }
   ],
   "source": [
    "# if you want to convert it based on records, use the orient parameter\n",
    "df.to_json(orient='records')"
   ]
  },
  {
   "cell_type": "code",
   "execution_count": null,
   "id": "b25c6edf-3461-48b4-a448-f5f35098203d",
   "metadata": {},
   "outputs": [],
   "source": []
  }
 ],
 "metadata": {
  "kernelspec": {
   "display_name": "Python 3 (ipykernel)",
   "language": "python",
   "name": "python3"
  },
  "language_info": {
   "codemirror_mode": {
    "name": "ipython",
    "version": 3
   },
   "file_extension": ".py",
   "mimetype": "text/x-python",
   "name": "python",
   "nbconvert_exporter": "python",
   "pygments_lexer": "ipython3",
   "version": "3.8.10"
  }
 },
 "nbformat": 4,
 "nbformat_minor": 5
}
