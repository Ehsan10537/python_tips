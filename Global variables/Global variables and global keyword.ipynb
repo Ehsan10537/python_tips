{
 "cells": [
  {
   "cell_type": "markdown",
   "id": "de1d63e2-b948-4a8c-9619-47b28bc4b88a",
   "metadata": {},
   "source": [
    "## Global variables\n",
    "* Global variables are variables declared outside any function and are accessible throughout the program.\n",
    "* These variables are stored in the global scope, which is shared across all functions and modules within the same file (or imported files).\n",
    "\n",
    "## global keyword\n",
    "The global keyword in Python is used to declare that a variable inside a function refers to a global variable, meaning a variable that is defined outside the function. By default, variables assigned within a function are considered local to that function.\n",
    "\n",
    "## When to Use global?\n",
    "1) Reassigning a global variable:\n",
    "  If you want to assign a new value or object to the global variable, use global.\n",
    "\n",
    "2) Declaring a new global variable inside a function:\n",
    "   If you want to create a global variable from inside a function, use global.\n",
    "   \n",
    "## When NOT to Use global?\n",
    "1) Reading global variables:\n",
    "   If you're only reading a global variable and not modifying it, you don’t need global\n",
    "\n",
    "2) Modifying contents of a mutable global object:\n",
    "   "
   ]
  }
 ],
 "metadata": {
  "kernelspec": {
   "display_name": "Python 3 (ipykernel)",
   "language": "python",
   "name": "python3"
  },
  "language_info": {
   "codemirror_mode": {
    "name": "ipython",
    "version": 3
   },
   "file_extension": ".py",
   "mimetype": "text/x-python",
   "name": "python",
   "nbconvert_exporter": "python",
   "pygments_lexer": "ipython3",
   "version": "3.12.2"
  }
 },
 "nbformat": 4,
 "nbformat_minor": 5
}
