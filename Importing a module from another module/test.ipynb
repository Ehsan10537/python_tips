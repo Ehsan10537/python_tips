{
 "cells": [
  {
   "cell_type": "markdown",
   "id": "24a4e927-a268-4b7d-b6ad-d3779e78053c",
   "metadata": {},
   "source": [
    "## if we import module_1 directly, nothing gets changed"
   ]
  },
  {
   "cell_type": "code",
   "execution_count": 1,
   "id": "185ffe86-b305-4d96-b9f0-7b2bc8ba56b6",
   "metadata": {},
   "outputs": [],
   "source": [
    "import module_1"
   ]
  },
  {
   "cell_type": "code",
   "execution_count": 2,
   "id": "4e232aac-2cad-4efd-9842-051dc334017a",
   "metadata": {},
   "outputs": [
    {
     "data": {
      "text/plain": [
       "'This is the ORIGINAL m1_var1'"
      ]
     },
     "execution_count": 2,
     "metadata": {},
     "output_type": "execute_result"
    }
   ],
   "source": [
    "module_1.m1_var1"
   ]
  },
  {
   "cell_type": "code",
   "execution_count": 3,
   "id": "fae54aa0-f49d-4f66-8019-8b45f4e50893",
   "metadata": {},
   "outputs": [
    {
     "data": {
      "text/plain": [
       "'This is the ORIGINAL m1_var2'"
      ]
     },
     "execution_count": 3,
     "metadata": {},
     "output_type": "execute_result"
    }
   ],
   "source": [
    "module_1.m1_var2"
   ]
  },
  {
   "cell_type": "code",
   "execution_count": 4,
   "id": "a42410bf-6fb3-45db-b96c-60cebd628518",
   "metadata": {},
   "outputs": [
    {
     "name": "stdout",
     "output_type": "stream",
     "text": [
      "Summation of 10 and 20 : \n"
     ]
    },
    {
     "data": {
      "text/plain": [
       "30"
      ]
     },
     "execution_count": 4,
     "metadata": {},
     "output_type": "execute_result"
    }
   ],
   "source": [
    "module_1.func(10, 20)"
   ]
  },
  {
   "cell_type": "markdown",
   "id": "7e1306f7-4ade-4434-9847-ade37662915a",
   "metadata": {},
   "source": [
    "## But if we import module_1 from module_2, the changes we made to the variable and the function of module_1 will get applied"
   ]
  },
  {
   "cell_type": "code",
   "execution_count": 5,
   "id": "f5946506-26ec-4daf-a697-6bbb212b79a6",
   "metadata": {},
   "outputs": [],
   "source": [
    "from module_2 import module_1"
   ]
  },
  {
   "cell_type": "code",
   "execution_count": 6,
   "id": "781a357d-9f29-491f-a9a6-59e3a05ef5a1",
   "metadata": {},
   "outputs": [
    {
     "data": {
      "text/plain": [
       "'This is the CHANGED m1_var1'"
      ]
     },
     "execution_count": 6,
     "metadata": {},
     "output_type": "execute_result"
    }
   ],
   "source": [
    "module_1.m1_var1    # it's changed as you can see"
   ]
  },
  {
   "cell_type": "code",
   "execution_count": 7,
   "id": "afe25f47-be52-4cd1-ad3d-bcaf1929e206",
   "metadata": {},
   "outputs": [
    {
     "data": {
      "text/plain": [
       "'This is the ORIGINAL m1_var2'"
      ]
     },
     "execution_count": 7,
     "metadata": {},
     "output_type": "execute_result"
    }
   ],
   "source": [
    "module_1.m1_var2   # not changed, because we didn't override it in module_2"
   ]
  },
  {
   "cell_type": "code",
   "execution_count": 8,
   "id": "de8af9d0-5145-43d1-b5d4-e200e646ca00",
   "metadata": {},
   "outputs": [
    {
     "name": "stdout",
     "output_type": "stream",
     "text": [
      "Multiplication of 10 and 20 : \n"
     ]
    },
    {
     "data": {
      "text/plain": [
       "200"
      ]
     },
     "execution_count": 8,
     "metadata": {},
     "output_type": "execute_result"
    }
   ],
   "source": [
    "module_1.func(10, 20)   \n",
    "\n",
    "# it's also changed. the func function from module_1 multiplies the arguments now instead of summarizing them"
   ]
  },
  {
   "cell_type": "code",
   "execution_count": null,
   "id": "90a1a11f-47c1-434f-ab1a-b40b0a51a055",
   "metadata": {},
   "outputs": [],
   "source": []
  }
 ],
 "metadata": {
  "kernelspec": {
   "display_name": "Python 3 (ipykernel)",
   "language": "python",
   "name": "python3"
  },
  "language_info": {
   "codemirror_mode": {
    "name": "ipython",
    "version": 3
   },
   "file_extension": ".py",
   "mimetype": "text/x-python",
   "name": "python",
   "nbconvert_exporter": "python",
   "pygments_lexer": "ipython3",
   "version": "3.8.10"
  }
 },
 "nbformat": 4,
 "nbformat_minor": 5
}
